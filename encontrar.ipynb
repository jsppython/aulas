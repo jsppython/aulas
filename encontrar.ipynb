{
 "cells": [
  {
   "cell_type": "markdown",
   "metadata": {},
   "source": [
    "# ENCONTRAR PALAVRAS-CHAVE EM UM TEXTO"
   ]
  },
  {
   "cell_type": "markdown",
   "metadata": {},
   "source": [
    "## PROBLEMA\n",
    "### Dados uma lista de palavras-chave e um texto, extrair as frases do texto que contêm uma ou mais palavras-chave e salvá-las em arquivo."
   ]
  },
  {
   "cell_type": "markdown",
   "metadata": {},
   "source": [
    "## PASSOS PARA A RESOLUÇÃO DO PROBLEMA\n",
    "### 1. Pegar a lista de palavras-chave.\n",
    "### 2. Ler o texto objeto da busca.\n",
    "### 3. Percorrer o texto linha a linha.\n",
    "### 4. Percorrer a lista de palavras-chave.\n",
    "### 5. Para cada linha verificar se ela contém a palavra-chave.\n",
    "### 6. Salvar em um arquivo as frases que contêm a palavra-chave."
   ]
  },
  {
   "cell_type": "code",
   "execution_count": 4,
   "metadata": {},
   "outputs": [],
   "source": [
    "# Importar a biblioteca de expressões regulares\n",
    "import re"
   ]
  },
  {
   "cell_type": "code",
   "execution_count": 5,
   "metadata": {},
   "outputs": [],
   "source": [
    "# Definição das palavras-chave\n",
    "palavras = ['biceps', 'triceps', 'quadriceps']"
   ]
  },
  {
   "cell_type": "code",
   "execution_count": 6,
   "metadata": {},
   "outputs": [],
   "source": [
    "# Ler o texto\n",
    "texto = open('texto.txt', 'r')"
   ]
  },
  {
   "cell_type": "code",
   "execution_count": 7,
   "metadata": {},
   "outputs": [],
   "source": [
    "# Definir o conjunto de frases encontradas no texto\n",
    "frases = []"
   ]
  },
  {
   "cell_type": "code",
   "execution_count": 8,
   "metadata": {},
   "outputs": [],
   "source": [
    "# Função que recebe uma linha de texto com uma palavra-chave e extrai a frase\n",
    "# A frase termina por um ponto ou por uma quebra de linha\n",
    "def extrair_frase(linha, palavra):\n",
    "    frase = None\n",
    "    padrao = r\"[^\\.]*\\b\" + palavra + r\"\\b[^\\.]*\\.\"\n",
    "    ocorrencias = re.match(padrao, linha, re.I)\n",
    "    if ocorrencias:\n",
    "        frase = ocorrencias.group(0)\n",
    "    return frase"
   ]
  },
  {
   "cell_type": "code",
   "execution_count": 9,
   "metadata": {},
   "outputs": [],
   "source": [
    "# Percorrer o texto linha a linha.\n",
    "# Percorrer a lista de palavras-chave.\n",
    "# Para cada linha verificar se ela contém a palavra-chave.\n",
    "# Salvar em um arquivo as frases que contêm a palavra-chave.\n",
    "for linha in texto:\n",
    "    for palavra in palavras:\n",
    "        if palavra in linha:\n",
    "            frase = extrair_frase(linha, palavra)\n",
    "            if frase:\n",
    "                frases.append(frase)"
   ]
  },
  {
   "cell_type": "code",
   "execution_count": 10,
   "metadata": {},
   "outputs": [],
   "source": [
    "# Fechar o arquivo de te3xto\n",
    "texto.close()"
   ]
  },
  {
   "cell_type": "code",
   "execution_count": 11,
   "metadata": {},
   "outputs": [],
   "source": [
    "# Salvar o arquivo de frases com palavras-chave\n",
    "arq_frases = open('frases.txt','w')\n",
    "arq_frases.write('\\n'.join(frases))\n",
    "arq_frases.close()"
   ]
  },
  {
   "cell_type": "markdown",
   "metadata": {},
   "source": [
    "### Próximas melhorias: \n",
    "###          -evitar duplicação de frases\n",
    "###          -evitar variações das palavras-chave"
   ]
  }
 ],
 "metadata": {
  "kernelspec": {
   "display_name": "Python 3",
   "language": "python",
   "name": "python3"
  },
  "language_info": {
   "codemirror_mode": {
    "name": "ipython",
    "version": 3
   },
   "file_extension": ".py",
   "mimetype": "text/x-python",
   "name": "python",
   "nbconvert_exporter": "python",
   "pygments_lexer": "ipython3",
   "version": "3.7.0"
  }
 },
 "nbformat": 4,
 "nbformat_minor": 2
}
