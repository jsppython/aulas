{
 "cells": [
  {
   "cell_type": "markdown",
   "metadata": {},
   "source": [
    "# ENCONTRAR PALAVRAS-CHAVE EM UM TEXTO"
   ]
  },
  {
   "cell_type": "markdown",
   "metadata": {},
   "source": [
    "## PROBLEMA\n",
    "### Dados uma lista de palavras-chave e um texto, extrair as frases do texto que contêm uma ou mais palavras-chave e salvá-las em arquivo."
   ]
  },
  {
   "cell_type": "markdown",
   "metadata": {},
   "source": [
    "## PASSOS PARA A RESOLUÇÃO DO PROBLEMA\n",
    "### 1. Pegar a lista de palavras-chave.\n",
    "### 2. Ler o texto objeto da busca.\n",
    "### 3. Percorrer o texto linha a linha.\n",
    "### 4. Percorrer a lista de palavras-chave.\n",
    "### 5. Para cada linha verificar se ela contém a palavra-chave.\n",
    "### 6. Salvar em um arquivo as frases que contêm a palavra-chave."
   ]
  },
  {
   "cell_type": "code",
   "execution_count": 141,
   "metadata": {},
   "outputs": [],
   "source": [
    "# Importar a biblioteca de expressões regulares\n",
    "import re"
   ]
  },
  {
   "cell_type": "code",
   "execution_count": 142,
   "metadata": {},
   "outputs": [],
   "source": [
    "# Definição das palavras-chave\n",
    "palavras = ['biceps', 'triceps', 'quadriceps']"
   ]
  },
  {
   "cell_type": "code",
   "execution_count": 143,
   "metadata": {},
   "outputs": [],
   "source": [
    "# Ler o texto\n",
    "texto = open('texto.txt', 'r')"
   ]
  },
  {
   "cell_type": "code",
   "execution_count": 144,
   "metadata": {},
   "outputs": [],
   "source": [
    "# Definir o conjunto de frases encontradas no texto\n",
    "frases = []"
   ]
  },
  {
   "cell_type": "code",
   "execution_count": 145,
   "metadata": {},
   "outputs": [],
   "source": [
    "# Função que recebe uma linha de texto com uma palavra-chave e extrai a frase\n",
    "# A frase termina por um ponto ou por uma quebra de linha\n",
    "def extrair_frase(linha, palavra):\n",
    "    frase = None\n",
    "    padrao = r\"[^.]*\\b\" + palavra + r\"\\b[^\\.]*\\.?\"\n",
    "    ocorrencias = re.match(padrao, linha, re.I)\n",
    "    if ocorrencias:\n",
    "        print(ocorrencias.group(0))\n",
    "        frase = linha\n",
    "    return frase"
   ]
  },
  {
   "cell_type": "code",
   "execution_count": 146,
   "metadata": {},
   "outputs": [
    {
     "name": "stdout",
     "output_type": "stream",
     "text": [
      "The biceps is a muscle on the front part of the upper arm.\n",
      "The biceps is attached to the arm bones by tough connective tissues called tendons.\n",
      "Rectus femoris occupies the middle of the thigh, covering most of the other three quadriceps muscles.\n",
      "All four parts of the quadriceps muscle ultimately insert into the tuberosity of the tibia via the patella, where the quadriceps tendon becomes the patellar ligament.\n",
      "There is a fifth muscle of the quadriceps complex that is often forgotten and rarely taught called articularis genus.\n",
      "The triceps is an extensor muscle of the elbow joint and an antagonist of the biceps and brachialis muscles.\n",
      "The triceps is an extensor muscle of the elbow joint and an antagonist of the biceps and brachialis muscles.\n",
      "The triceps can be worked through either isolation or compound elbow extension movements and can contract statically to keep the arm straightened against resistance.\n",
      "Isolation movements include cable push-downs, lying triceps extensions and arm extensions behind the back.\n",
      "Ruptures of the triceps muscle are rare, and typically only occur in anabolic steroid users.\n"
     ]
    }
   ],
   "source": [
    "# Percorrer o texto linha a linha.\n",
    "# Percorrer a lista de palavras-chave.\n",
    "# Para cada linha verificar se ela contém a palavra-chave.\n",
    "# Salvar em um arquivo as frases que contêm a palavra-chave.\n",
    "for linha in texto:\n",
    "    for palavra in palavras:\n",
    "        if palavra in linha:\n",
    "            frase = extrair_frase(linha, palavra)\n",
    "            if frase:\n",
    "                frases.append(frase)"
   ]
  },
  {
   "cell_type": "code",
   "execution_count": 147,
   "metadata": {},
   "outputs": [],
   "source": [
    "# Fechar o arquivo de te3xto\n",
    "texto.close()"
   ]
  },
  {
   "cell_type": "code",
   "execution_count": 148,
   "metadata": {},
   "outputs": [],
   "source": [
    "# Salvar o arquivo de frases com palavras-chave\n",
    "arq_frases = open('frases.txt','w')\n",
    "arq_frases.write('\\n'.join(frases))\n",
    "arq_frases.close()"
   ]
  },
  {
   "cell_type": "markdown",
   "metadata": {},
   "source": [
    "### Próximas melhorias: \n",
    "###          -evitar duplicação de frases\n",
    "###          -evitar variações das palavras-chave"
   ]
  }
 ],
 "metadata": {
  "kernelspec": {
   "display_name": "Python 3",
   "language": "python",
   "name": "python3"
  },
  "language_info": {
   "codemirror_mode": {
    "name": "ipython",
    "version": 3
   },
   "file_extension": ".py",
   "mimetype": "text/x-python",
   "name": "python",
   "nbconvert_exporter": "python",
   "pygments_lexer": "ipython3",
   "version": "3.7.0"
  }
 },
 "nbformat": 4,
 "nbformat_minor": 2
}
