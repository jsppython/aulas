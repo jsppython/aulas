{
 "cells": [
  {
   "cell_type": "code",
   "execution_count": null,
   "metadata": {},
   "outputs": [],
   "source": [
    "# Entrada de um valor a partir do teclado\n",
    "# Função input()\n",
    "entrada = input('Digite um numero e tecle \"Enter\": ')\n",
    "\n",
    "# Mostrar na tela o que foi digitado\n",
    "print(entrada)"
   ]
  },
  {
   "cell_type": "code",
   "execution_count": null,
   "metadata": {},
   "outputs": [],
   "source": [
    "# Entrada de um valor a partir do teclado\n",
    "# Função input()\n",
    "entrada = input('Digite um numero e tecle \"Enter\": ')\n",
    "\n",
    "# Mostrar na tela o que foi digitado\n",
    "print(entrada)\n",
    "\n",
    "# Mostrar na tela o tipo da variavel\n",
    "print(type(entrada))"
   ]
  },
  {
   "cell_type": "code",
   "execution_count": null,
   "metadata": {},
   "outputs": [],
   "source": [
    "entrada = input('Digite um numero e tecle \"Enter\": ')\n",
    "x = int(entrada)\n",
    "print(x, \"ao quadrado é\", x*x)"
   ]
  },
  {
   "cell_type": "markdown",
   "metadata": {},
   "source": [
    "Algoritmo de tratamento de entrada\n",
    "\n",
    "1. Receber entrada do usuário\n",
    "2. Verificar se a entrada é numérica\n",
    "3. Se a entrada não for numérica, exibir mensagem para o usuário e voltar ao passo 1.\n",
    "4. Converter a entrada para inteiro\n",
    "5. Calcular a entrada ao quadrado\n",
    "5. Apresentar o resultado para o usuário."
   ]
  },
  {
   "cell_type": "code",
   "execution_count": null,
   "metadata": {},
   "outputs": [],
   "source": [
    "entrada = input(\"Digite um numero inteiro e tecle \\\"Enter\\\": \")"
   ]
  },
  {
   "cell_type": "code",
   "execution_count": null,
   "metadata": {},
   "outputs": [],
   "source": [
    "a = '121211'\n",
    "x = a.isdigit()\n",
    "print(x)\n"
   ]
  },
  {
   "cell_type": "code",
   "execution_count": null,
   "metadata": {},
   "outputs": [],
   "source": [
    "a = 'bola'\n",
    "b = 'ontem, eu joguei ' + a\n",
    "print(b)"
   ]
  },
  {
   "cell_type": "code",
   "execution_count": null,
   "metadata": {},
   "outputs": [],
   "source": [
    "a = 'aqaqswswqaq'\n",
    "print('voce digitou \"' + a + '\". Digite um numero')"
   ]
  },
  {
   "cell_type": "code",
   "execution_count": null,
   "metadata": {},
   "outputs": [],
   "source": [
    "def get_numero():\n",
    "    entrada = input('Digite um numero ')\n",
    "    while not entrada.isdigit():\n",
    "        entrada = input('Digite um numero e nao uma palavra ')\n",
    "    return entrada\n",
    "\n",
    "# Pegar um numero digitado pelo usuraio\n",
    "numero = get_numero()\n",
    "print('O numero digitado é ', numero)\n"
   ]
  },
  {
   "cell_type": "code",
   "execution_count": 2,
   "metadata": {},
   "outputs": [
    {
     "name": "stdout",
     "output_type": "stream",
     "text": [
      "Digite um numero impar.\n",
      "a1\n",
      "\n",
      "Digite um numero e não uma letra.\n",
      "44\n",
      "\n",
      "Você digitou um numero par.\n",
      "Digite um numero impar.\n",
      "33\n",
      "\n",
      "O numero impar escolhido é: 33\n"
     ]
    }
   ],
   "source": [
    "def eh_impar(inp):\n",
    "    if inp % 2 == 0:\n",
    "        return False\n",
    "    else:\n",
    "        return True\n",
    "\n",
    "def get_numero():\n",
    "    entrada = input( \"Digite um numero impar.\\n\" )\n",
    "    while not entrada.isdigit():\n",
    "        entrada = input( \"\\nDigite um numero e não uma letra.\\n\" )\n",
    "    return entrada\n",
    "\n",
    "x = get_numero()\n",
    "x_int = int(x)\n",
    "while not eh_impar(x_int):\n",
    "    print(\"\\nVocê digitou um numero par.\")\n",
    "    x_int = int(get_numero())\n",
    "    \n",
    "print(\"\\nO numero impar escolhido é:\" , x_int )"
   ]
  },
  {
   "cell_type": "code",
   "execution_count": null,
   "metadata": {},
   "outputs": [],
   "source": []
  }
 ],
 "metadata": {
  "kernelspec": {
   "display_name": "Python 3",
   "language": "python",
   "name": "python3"
  },
  "language_info": {
   "codemirror_mode": {
    "name": "ipython",
    "version": 3
   },
   "file_extension": ".py",
   "mimetype": "text/x-python",
   "name": "python",
   "nbconvert_exporter": "python",
   "pygments_lexer": "ipython3",
   "version": "3.7.0"
  },
  "widgets": {
   "application/vnd.jupyter.widget-state+json": {
    "state": {},
    "version_major": 2,
    "version_minor": 0
   }
  }
 },
 "nbformat": 4,
 "nbformat_minor": 2
}
