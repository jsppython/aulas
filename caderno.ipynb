{
 "cells": [
  {
   "cell_type": "code",
   "execution_count": null,
   "metadata": {},
   "outputs": [],
   "source": [
    "# Entrada de um valor a partir do teclado\n",
    "# Função input()\n",
    "entrada = input('Digite um numero e tecle \"Enter\": ')\n",
    "\n",
    "# Mostrar na tela o que foi digitado\n",
    "print(entrada)"
   ]
  },
  {
   "cell_type": "code",
   "execution_count": null,
   "metadata": {},
   "outputs": [],
   "source": [
    "# Entrada de um valor a partir do teclado\n",
    "# Função input()\n",
    "entrada = input('Digite um numero e tecle \"Enter\": ')\n",
    "\n",
    "# Mostrar na tela o que foi digitado\n",
    "print(entrada)\n",
    "\n",
    "# Mostrar na tela o tipo da variavel\n",
    "print(type(entrada))"
   ]
  },
  {
   "cell_type": "code",
   "execution_count": null,
   "metadata": {},
   "outputs": [],
   "source": [
    "entrada = input('Digite um numero e tecle \"Enter\": ')\n",
    "x = int(entrada)\n",
    "print(x, \"ao quadrado é\", x*x)"
   ]
  }
 ],
 "metadata": {
  "kernelspec": {
   "display_name": "Python 3",
   "language": "python",
   "name": "python3"
  },
  "language_info": {
   "codemirror_mode": {
    "name": "ipython",
    "version": 3
   },
   "file_extension": ".py",
   "mimetype": "text/x-python",
   "name": "python",
   "nbconvert_exporter": "python",
   "pygments_lexer": "ipython3",
   "version": "3.6.4"
  }
 },
 "nbformat": 4,
 "nbformat_minor": 2
}
