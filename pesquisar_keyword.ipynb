{
 "cells": [
  {
   "cell_type": "markdown",
   "metadata": {},
   "source": [
    "Problema:\n",
    "Dado um prontuario de um paciente(arquivo texto) identificar as referencias a amplitude articular.\n",
    "\n",
    "A referencia da amplitude articular tudo que tenha \"amplitude articular\" e um numero na mesma frase\n"
   ]
  },
  {
   "cell_type": "code",
   "execution_count": 4,
   "metadata": {},
   "outputs": [],
   "source": [
    "import re"
   ]
  },
  {
   "cell_type": "code",
   "execution_count": 2,
   "metadata": {},
   "outputs": [],
   "source": [
    "adm = 'amplitude articular'"
   ]
  },
  {
   "cell_type": "code",
   "execution_count": 3,
   "metadata": {},
   "outputs": [],
   "source": [
    "prontuario = open('prontuario.txt', 'r')"
   ]
  },
  {
   "cell_type": "code",
   "execution_count": 5,
   "metadata": {},
   "outputs": [],
   "source": [
    "frases = []"
   ]
  },
  {
   "cell_type": "code",
   "execution_count": 6,
   "metadata": {},
   "outputs": [],
   "source": [
    "def extrair_frase(linha):\n",
    "    frase = None\n",
    "    padrao = r'[^\\.]*\\b' + adm + r'\\b[^\\.]+\\b\\d{1,3}\\b'\n",
    "    ocorrencias = re.match(padrao, linha, re.I)\n",
    "    if ocorrencias:\n",
    "        frase = ocorrencias.group(0)\n",
    "    return frase"
   ]
  },
  {
   "cell_type": "code",
   "execution_count": 7,
   "metadata": {},
   "outputs": [],
   "source": [
    "for linha in prontuario:\n",
    "    if adm.lower() in linha.lower():\n",
    "        frase = extrair_frase(linha)\n",
    "        if frase:\n",
    "            frases.append(frase)"
   ]
  },
  {
   "cell_type": "code",
   "execution_count": 8,
   "metadata": {},
   "outputs": [],
   "source": [
    "prontuario.close()"
   ]
  },
  {
   "cell_type": "code",
   "execution_count": 9,
   "metadata": {},
   "outputs": [],
   "source": [
    "resultado = open('resultado.txt', 'w')\n",
    "resultado.write('\\n'.join(frases))\n",
    "resultado.close()"
   ]
  },
  {
   "cell_type": "code",
   "execution_count": null,
   "metadata": {},
   "outputs": [],
   "source": []
  }
 ],
 "metadata": {
  "kernelspec": {
   "display_name": "Python 3",
   "language": "python",
   "name": "python3"
  },
  "language_info": {
   "codemirror_mode": {
    "name": "ipython",
    "version": 3
   },
   "file_extension": ".py",
   "mimetype": "text/x-python",
   "name": "python",
   "nbconvert_exporter": "python",
   "pygments_lexer": "ipython3",
   "version": "3.7.0"
  }
 },
 "nbformat": 4,
 "nbformat_minor": 2
}
