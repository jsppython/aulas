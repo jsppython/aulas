{
 "cells": [
  {
   "cell_type": "code",
   "execution_count": 2,
   "metadata": {},
   "outputs": [
    {
     "name": "stdout",
     "output_type": "stream",
     "text": [
      "Digite um numero e tecle \"Enter\": 9\n",
      "9 ao quadrado é 81\n"
     ]
    }
   ],
   "source": [
    "entrada = input('Digite um numero e tecle \"Enter\": ')\n",
    "x = int(entrada)\n",
    "print(x, \"ao quadrado é\", x*x)"
   ]
  },
  {
   "cell_type": "markdown",
   "metadata": {},
   "source": [
    "Algoritmo de tratamento de entrada\n",
    "\n",
    "1. Receber entrada do usuário\n",
    "2. Verificar se a entrada é numérica e ímpar\n",
    "3. Se a entrada não for numérica, exibir mensagem para o usuário e voltar ao passo 1.\n",
    "4. Se a entrada não for ímpar, exibir mensagem para o usuário e voltar ao passo 1.\n",
    "5. Se a entrada for numérica e ímpar, apresentar o resultado para o usuário."
   ]
  },
  {
   "cell_type": "code",
   "execution_count": 8,
   "metadata": {},
   "outputs": [
    {
     "name": "stdout",
     "output_type": "stream",
     "text": [
      "Digite um numero impar: 2\n",
      "Você digitou um numero par.\n",
      "\n",
      "Digite um numero impar: qwe\n",
      "Digite um numero e não uma letra: 4\n",
      "Você digitou um numero par.\n",
      "\n",
      "Digite um numero impar: 3\n",
      "\n",
      "O numero impar escolhido é: 3\n"
     ]
    }
   ],
   "source": [
    "def eh_impar(inp):\n",
    "    if inp % 2 == 0:\n",
    "        return False\n",
    "    else:\n",
    "        return True\n",
    "\n",
    "def get_numero():\n",
    "    entrada = input(\"Digite um numero impar: \")\n",
    "    while not entrada.isdigit():\n",
    "        entrada = input( \"Digite um numero e não uma letra: \" )\n",
    "    return entrada\n",
    "\n",
    "x = get_numero()\n",
    "x_int = int(x)\n",
    "while not eh_impar(x_int):\n",
    "    print(\"Você digitou um numero par.\\n\")\n",
    "    x_int = int(get_numero())\n",
    "    \n",
    "print(\"\\nO numero impar escolhido é:\" , x_int )"
   ]
  },
  {
   "cell_type": "code",
   "execution_count": null,
   "metadata": {},
   "outputs": [],
   "source": []
  }
 ],
 "metadata": {
  "kernelspec": {
   "display_name": "Python 3",
   "language": "python",
   "name": "python3"
  },
  "language_info": {
   "codemirror_mode": {
    "name": "ipython",
    "version": 3
   },
   "file_extension": ".py",
   "mimetype": "text/x-python",
   "name": "python",
   "nbconvert_exporter": "python",
   "pygments_lexer": "ipython3",
   "version": "3.7.0"
  },
  "widgets": {
   "application/vnd.jupyter.widget-state+json": {
    "state": {},
    "version_major": 2,
    "version_minor": 0
   }
  }
 },
 "nbformat": 4,
 "nbformat_minor": 2
}
